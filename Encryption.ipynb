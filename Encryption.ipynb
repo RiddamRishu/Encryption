{
  "nbformat": 4,
  "nbformat_minor": 0,
  "metadata": {
    "colab": {
      "name": "Encryption.ipynb",
      "provenance": []
    },
    "kernelspec": {
      "name": "python3",
      "display_name": "Python 3"
    },
    "language_info": {
      "name": "python"
    }
  },
  "cells": [
    {
      "cell_type": "code",
      "metadata": {
        "id": "n7GNRsAFh_ro"
      },
      "source": [
        "import Crypto as c\n",
        "from c.Cipher import AES\n",
        "\n",
        "# module to obtain a random key\n",
        "from secrets import token_bytes\n",
        "\n",
        "# key\n",
        "key = token_bytes(16)\n",
        "\n",
        "# encrypt function\n",
        "def encrypt(message):\n",
        "  cipher = AES.new(key, AES.MODE_EAX)\n",
        "  nonce = cipher.nonce\n",
        "  ciphertext, tag = cipher.encrypt_and_digest(message.encode('ascii'))\n",
        "  return nonce, ciphertext, tag\n",
        "\n",
        "def decrypt(nonce, ciphertext, tag):\n",
        "  cipher = AES.new(key, AES.MOE_EAX, nonce)\n",
        "  simpletext = cipher.decrypt(ciphertext)\n",
        "  if  cipher.verify(tag)\n",
        "    simpletext = simpletext.decode('ascii')\n",
        "    return simpletext\n",
        "  else:\n",
        "    return False\n",
        "msg = input(\"Enter your message\")\n",
        "nonce, ciphertext, tag = encrypt(msg)\n",
        "text = decrypt(nonce,ciphertext,tag)\n",
        "print(ciphertext)\n",
        "if text==False:\n",
        "  print(\"Corrupted Message\")\n",
        "else:\n",
        "  print(text)\n",
        "\n"
      ],
      "execution_count": null,
      "outputs": []
    }
  ]
}